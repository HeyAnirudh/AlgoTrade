{
 "cells": [
  {
   "cell_type": "markdown",
   "id": "eedfc130",
   "metadata": {},
   "source": [
    "## Imports"
   ]
  },
  {
   "cell_type": "code",
   "execution_count": 1,
   "id": "be0f27af",
   "metadata": {},
   "outputs": [],
   "source": [
    "import numpy as np\n",
    "import pandas as pd\n",
    "import secrets\n",
    "import math\n",
    "import requests\n",
    "from nsetools import Nse\n",
    "from pprint import pprint"
   ]
  },
  {
   "cell_type": "code",
   "execution_count": 8,
   "id": "9f4b19ff",
   "metadata": {},
   "outputs": [
    {
     "data": {
      "text/plain": [
       "['ADANIENT', 'ADANIPORTS', 'APOLLOHOSP', 'ASIANPAINT', 'AXISBANK']"
      ]
     },
     "execution_count": 8,
     "metadata": {},
     "output_type": "execute_result"
    }
   ],
   "source": [
    "data_nifty=pd.read_csv(\"Data/ind_nifty50list.csv\")\n",
    "symbols=[i for i in data_nifty.Symbol]\n",
    "symbols[:5]"
   ]
  },
  {
   "cell_type": "code",
   "execution_count": 13,
   "id": "a696f4bf",
   "metadata": {},
   "outputs": [
    {
     "name": "stdout",
     "output_type": "stream",
     "text": [
      "[{'Information': 'Thank you for using Alpha Vantage! Our standard API rate limit is 25 requests per day. Please subscribe to any of the premium plans at https://www.alphavantage.co/premium/ to instantly remove all daily rate limits.'}, {'Information': 'Thank you for using Alpha Vantage! Our standard API rate limit is 25 requests per day. Please subscribe to any of the premium plans at https://www.alphavantage.co/premium/ to instantly remove all daily rate limits.'}, {'Information': 'Thank you for using Alpha Vantage! Our standard API rate limit is 25 requests per day. Please subscribe to any of the premium plans at https://www.alphavantage.co/premium/ to instantly remove all daily rate limits.'}, {'Information': 'Thank you for using Alpha Vantage! Our standard API rate limit is 25 requests per day. Please subscribe to any of the premium plans at https://www.alphavantage.co/premium/ to instantly remove all daily rate limits.'}, {'Information': 'Thank you for using Alpha Vantage! Our standard API rate limit is 25 requests per day. Please subscribe to any of the premium plans at https://www.alphavantage.co/premium/ to instantly remove all daily rate limits.'}]\n"
     ]
    }
   ],
   "source": [
    "API_KEY='3Q7Q06BXFXWGT4HC'\n",
    "import requests\n",
    "\n",
    "# API_KEY = 'YOUR_API_KEY'\n",
    "symbol = 'ADANIPORTS'\n",
    "ls=[]\n",
    "for i in symbols[:5]:\n",
    "    url = f'https://www.alphavantage.co/query?function=RSI&symbol={i}&interval=daily&time_period=14&series_type=close&apikey={API_KEY}'\n",
    "    response = requests.get(url)\n",
    "    data = response.json()\n",
    "    ls.append(data)\n",
    "\n",
    "print(ls)"
   ]
  },
  {
   "cell_type": "code",
   "execution_count": 16,
   "id": "3affe40f",
   "metadata": {},
   "outputs": [
    {
     "name": "stderr",
     "output_type": "stream",
     "text": [
      "ERROR: pip's dependency resolver does not currently take into account all the packages that are installed. This behaviour is the source of the following dependency conflicts.\n",
      "conda-repo-cli 1.0.4 requires pathlib, which is not installed.\n",
      "anaconda-project 0.10.2 requires ruamel-yaml, which is not installed.\n"
     ]
    },
    {
     "name": "stdout",
     "output_type": "stream",
     "text": [
      "Collecting polygon-api-client\n",
      "  Downloading polygon_api_client-1.13.7-py3-none-any.whl (40 kB)\n",
      "Requirement already satisfied: urllib3<2.0.0,>=1.26.9 in c:\\anaconda\\lib\\site-packages (from polygon-api-client) (1.26.9)\n",
      "Collecting certifi<2025.0.0,>=2022.5.18\n",
      "  Downloading certifi-2024.2.2-py3-none-any.whl (163 kB)\n",
      "Collecting websockets<13.0,>=10.3\n",
      "  Downloading websockets-12.0-cp39-cp39-win_amd64.whl (124 kB)\n",
      "Installing collected packages: websockets, certifi, polygon-api-client\n",
      "  Attempting uninstall: certifi\n",
      "    Found existing installation: certifi 2021.10.8\n",
      "    Uninstalling certifi-2021.10.8:\n",
      "      Successfully uninstalled certifi-2021.10.8\n",
      "Successfully installed certifi-2024.2.2 polygon-api-client-1.13.7 websockets-12.0\n"
     ]
    }
   ],
   "source": [
    "!pip install -U polygon-api-client\n",
    "from polygon import RESTClient"
   ]
  },
  {
   "cell_type": "code",
   "execution_count": 17,
   "id": "b42717f5",
   "metadata": {},
   "outputs": [],
   "source": [
    "client = RESTClient(api_key=\"wpY4VDth_qJGPxuwWG_xi4DnZ0nGJBk6\")"
   ]
  },
  {
   "cell_type": "code",
   "execution_count": 19,
   "id": "f5c6fd10",
   "metadata": {},
   "outputs": [
    {
     "name": "stderr",
     "output_type": "stream",
     "text": [
      "IOPub data rate exceeded.\n",
      "The notebook server will temporarily stop sending output\n",
      "to the client in order to avoid crashing it.\n",
      "To change this limit, set the config variable\n",
      "`--NotebookApp.iopub_data_rate_limit`.\n",
      "\n",
      "Current values:\n",
      "NotebookApp.iopub_data_rate_limit=1000000.0 (bytes/sec)\n",
      "NotebookApp.rate_limit_window=3.0 (secs)\n",
      "\n"
     ]
    },
    {
     "ename": "BadResponse",
     "evalue": "{\"status\":\"NOT_AUTHORIZED\",\"request_id\":\"935230381e56010c15601d3a892bd009\",\"message\":\"You are not entitled to this data. Please upgrade your plan at https://polygon.io/pricing\"}",
     "output_type": "error",
     "traceback": [
      "\u001b[1;31m---------------------------------------------------------------------------\u001b[0m",
      "\u001b[1;31mBadResponse\u001b[0m                               Traceback (most recent call last)",
      "Input \u001b[1;32mIn [19]\u001b[0m, in \u001b[0;36m<cell line: 11>\u001b[1;34m()\u001b[0m\n\u001b[0;32m      8\u001b[0m \u001b[38;5;28mprint\u001b[39m(aggs)\n\u001b[0;32m     10\u001b[0m \u001b[38;5;66;03m# Get Last Trade\u001b[39;00m\n\u001b[1;32m---> 11\u001b[0m trade \u001b[38;5;241m=\u001b[39m \u001b[43mclient\u001b[49m\u001b[38;5;241;43m.\u001b[39;49m\u001b[43mget_last_trade\u001b[49m\u001b[43m(\u001b[49m\u001b[43mticker\u001b[49m\u001b[38;5;241;43m=\u001b[39;49m\u001b[43mticker\u001b[49m\u001b[43m)\u001b[49m\n\u001b[0;32m     12\u001b[0m \u001b[38;5;28mprint\u001b[39m(trade)\n\u001b[0;32m     14\u001b[0m \u001b[38;5;66;03m# List Trades\u001b[39;00m\n",
      "File \u001b[1;32mC:\\anaconda\\lib\\site-packages\\polygon\\rest\\trades.py:69\u001b[0m, in \u001b[0;36mTradesClient.get_last_trade\u001b[1;34m(self, ticker, params, raw, options)\u001b[0m\n\u001b[0;32m     59\u001b[0m \u001b[38;5;124;03m\"\"\"\u001b[39;00m\n\u001b[0;32m     60\u001b[0m \u001b[38;5;124;03mGet the most recent trade for a ticker.\u001b[39;00m\n\u001b[0;32m     61\u001b[0m \n\u001b[1;32m   (...)\u001b[0m\n\u001b[0;32m     65\u001b[0m \u001b[38;5;124;03m:return: Last trade\u001b[39;00m\n\u001b[0;32m     66\u001b[0m \u001b[38;5;124;03m\"\"\"\u001b[39;00m\n\u001b[0;32m     67\u001b[0m url \u001b[38;5;241m=\u001b[39m \u001b[38;5;124mf\u001b[39m\u001b[38;5;124m\"\u001b[39m\u001b[38;5;124m/v2/last/trade/\u001b[39m\u001b[38;5;132;01m{\u001b[39;00mticker\u001b[38;5;132;01m}\u001b[39;00m\u001b[38;5;124m\"\u001b[39m\n\u001b[1;32m---> 69\u001b[0m \u001b[38;5;28;01mreturn\u001b[39;00m \u001b[38;5;28;43mself\u001b[39;49m\u001b[38;5;241;43m.\u001b[39;49m\u001b[43m_get\u001b[49m\u001b[43m(\u001b[49m\n\u001b[0;32m     70\u001b[0m \u001b[43m    \u001b[49m\u001b[43mpath\u001b[49m\u001b[38;5;241;43m=\u001b[39;49m\u001b[43murl\u001b[49m\u001b[43m,\u001b[49m\n\u001b[0;32m     71\u001b[0m \u001b[43m    \u001b[49m\u001b[43mparams\u001b[49m\u001b[38;5;241;43m=\u001b[39;49m\u001b[38;5;28;43mself\u001b[39;49m\u001b[38;5;241;43m.\u001b[39;49m\u001b[43m_get_params\u001b[49m\u001b[43m(\u001b[49m\u001b[38;5;28;43mself\u001b[39;49m\u001b[38;5;241;43m.\u001b[39;49m\u001b[43mget_last_trade\u001b[49m\u001b[43m,\u001b[49m\u001b[43m \u001b[49m\u001b[38;5;28;43mlocals\u001b[39;49m\u001b[43m(\u001b[49m\u001b[43m)\u001b[49m\u001b[43m)\u001b[49m\u001b[43m,\u001b[49m\n\u001b[0;32m     72\u001b[0m \u001b[43m    \u001b[49m\u001b[43mresult_key\u001b[49m\u001b[38;5;241;43m=\u001b[39;49m\u001b[38;5;124;43m\"\u001b[39;49m\u001b[38;5;124;43mresults\u001b[39;49m\u001b[38;5;124;43m\"\u001b[39;49m\u001b[43m,\u001b[49m\n\u001b[0;32m     73\u001b[0m \u001b[43m    \u001b[49m\u001b[43mdeserializer\u001b[49m\u001b[38;5;241;43m=\u001b[39;49m\u001b[43mLastTrade\u001b[49m\u001b[38;5;241;43m.\u001b[39;49m\u001b[43mfrom_dict\u001b[49m\u001b[43m,\u001b[49m\n\u001b[0;32m     74\u001b[0m \u001b[43m    \u001b[49m\u001b[43mraw\u001b[49m\u001b[38;5;241;43m=\u001b[39;49m\u001b[43mraw\u001b[49m\u001b[43m,\u001b[49m\n\u001b[0;32m     75\u001b[0m \u001b[43m    \u001b[49m\u001b[43moptions\u001b[49m\u001b[38;5;241;43m=\u001b[39;49m\u001b[43moptions\u001b[49m\u001b[43m,\u001b[49m\n\u001b[0;32m     76\u001b[0m \u001b[43m\u001b[49m\u001b[43m)\u001b[49m\n",
      "File \u001b[1;32mC:\\anaconda\\lib\\site-packages\\polygon\\rest\\base.py:133\u001b[0m, in \u001b[0;36mBaseClient._get\u001b[1;34m(self, path, params, result_key, deserializer, raw, options)\u001b[0m\n\u001b[0;32m    130\u001b[0m     \u001b[38;5;28mprint\u001b[39m(\u001b[38;5;124mf\u001b[39m\u001b[38;5;124m\"\u001b[39m\u001b[38;5;124mResponse Headers: \u001b[39m\u001b[38;5;132;01m{\u001b[39;00mresp_headers_dict\u001b[38;5;132;01m}\u001b[39;00m\u001b[38;5;124m\"\u001b[39m)\n\u001b[0;32m    132\u001b[0m \u001b[38;5;28;01mif\u001b[39;00m resp\u001b[38;5;241m.\u001b[39mstatus \u001b[38;5;241m!=\u001b[39m \u001b[38;5;241m200\u001b[39m:\n\u001b[1;32m--> 133\u001b[0m     \u001b[38;5;28;01mraise\u001b[39;00m BadResponse(resp\u001b[38;5;241m.\u001b[39mdata\u001b[38;5;241m.\u001b[39mdecode(\u001b[38;5;124m\"\u001b[39m\u001b[38;5;124mutf-8\u001b[39m\u001b[38;5;124m\"\u001b[39m))\n\u001b[0;32m    135\u001b[0m \u001b[38;5;28;01mif\u001b[39;00m raw:\n\u001b[0;32m    136\u001b[0m     \u001b[38;5;28;01mreturn\u001b[39;00m resp\n",
      "\u001b[1;31mBadResponse\u001b[0m: {\"status\":\"NOT_AUTHORIZED\",\"request_id\":\"935230381e56010c15601d3a892bd009\",\"message\":\"You are not entitled to this data. Please upgrade your plan at https://polygon.io/pricing\"}"
     ]
    }
   ],
   "source": [
    "ticker = \"AAPL\"\n",
    "\n",
    "# List Aggregates (Bars)\n",
    "aggs = []\n",
    "for a in client.list_aggs(ticker=ticker, multiplier=1, timespan=\"minute\", from_=\"2023-01-01\", to=\"2023-06-13\", limit=50000):\n",
    "    aggs.append(a)\n",
    "\n",
    "print(aggs)\n",
    "\n",
    "# Get Last Trade\n",
    "trade = client.get_last_trade(ticker=ticker)\n",
    "print(trade)\n",
    "\n",
    "# List Trades\n",
    "trades = client.list_trades(ticker=ticker, timestamp=\"2022-01-04\")\n",
    "for trade in trades:\n",
    "    print(trade)\n",
    "\n",
    "# Get Last Quote\n",
    "quote = client.get_last_quote(ticker=ticker)\n",
    "print(quote)\n",
    "\n",
    "# List Quotes\n",
    "quotes = client.list_quotes(ticker=ticker, timestamp=\"2022-01-04\")\n",
    "for quote in quotes:\n",
    "    print(quote)"
   ]
  },
  {
   "cell_type": "code",
   "execution_count": null,
   "id": "47002a96",
   "metadata": {},
   "outputs": [],
   "source": []
  }
 ],
 "metadata": {
  "kernelspec": {
   "display_name": "Python 3 (ipykernel)",
   "language": "python",
   "name": "python3"
  },
  "language_info": {
   "codemirror_mode": {
    "name": "ipython",
    "version": 3
   },
   "file_extension": ".py",
   "mimetype": "text/x-python",
   "name": "python",
   "nbconvert_exporter": "python",
   "pygments_lexer": "ipython3",
   "version": "3.9.12"
  }
 },
 "nbformat": 4,
 "nbformat_minor": 5
}
